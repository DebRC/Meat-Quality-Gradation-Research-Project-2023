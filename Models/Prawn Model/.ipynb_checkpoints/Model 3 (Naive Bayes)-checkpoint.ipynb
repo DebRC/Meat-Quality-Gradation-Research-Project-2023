{
 "cells": [
  {
   "cell_type": "code",
   "execution_count": 1,
   "id": "786652f0",
   "metadata": {},
   "outputs": [],
   "source": [
    "import pandas as pd\n",
    "import numpy as np\n",
    "import matplotlib.pyplot as plt\n",
    "import cv2\n",
    "import time\n",
    "import os\n",
    "from IPython.display import clear_output"
   ]
  },
  {
   "cell_type": "code",
   "execution_count": 2,
   "id": "8ef2cfe5",
   "metadata": {},
   "outputs": [],
   "source": [
    "# Importing Naive Bayes Classifier and other modules\n",
    "from sklearn.preprocessing import StandardScaler\n",
    "from sklearn.naive_bayes import GaussianNB\n",
    "from sklearn.preprocessing import LabelEncoder\n",
    "from sklearn.model_selection import train_test_split\n",
    "from sklearn.metrics import confusion_matrix"
   ]
  },
  {
   "cell_type": "code",
   "execution_count": 3,
   "id": "8d71e028",
   "metadata": {},
   "outputs": [],
   "source": [
    "# Preparing the classifier\n",
    "classifier = GaussianNB()"
   ]
  },
  {
   "cell_type": "code",
   "execution_count": 4,
   "id": "27464bde",
   "metadata": {},
   "outputs": [],
   "source": [
    "# Preparing the dataset\n",
    "files = ['Consumable', 'Not Consumable']\n",
    "address = '/media/debrc/Data/Codings/Meat-Gradation-PROJ/Dataset/Prawn/'"
   ]
  },
  {
   "cell_type": "code",
   "execution_count": 5,
   "id": "5b09f755",
   "metadata": {},
   "outputs": [],
   "source": [
    "# Loading the image files based on classifications\n",
    "data = {}\n",
    "for f in files:\n",
    "    data[f]=[]\n",
    "for col in files:\n",
    "    os.chdir(address+col)\n",
    "    for i in os.listdir(os.getcwd()):\n",
    "        if i.endswith('.jpg'):\n",
    "            data[col].append(i)"
   ]
  },
  {
   "cell_type": "code",
   "execution_count": 6,
   "id": "49ce2483",
   "metadata": {},
   "outputs": [
    {
     "data": {
      "image/png": "[encoded data removed]",
      "text/plain": [
       "<Figure size 1000x500 with 1 Axes>"
      ]
     },
     "metadata": {},
     "output_type": "display_data"
    }
   ],
   "source": [
    "sizes = [len(data['Consumable']), len(data['Not Consumable'])]\n",
    "plt.figure(figsize=(10,5), dpi=100)\n",
    "plt.pie(x=sizes,autopct='%1.0f%%',shadow=False, textprops={'color':\"w\",\"fontsize\":15}, startangle=90)\n",
    "plt.legend(files,bbox_to_anchor=(0.4, 0, .7, 1))\n",
    "plt.title(\"Data Split\")\n",
    "plt.show()"
   ]
  },
  {
   "cell_type": "code",
   "execution_count": 7,
   "id": "749f70a1",
   "metadata": {},
   "outputs": [],
   "source": [
    "width = 100\n",
    "height = 100\n",
    "# Making standard size for the different class\n",
    "sample_size = 60"
   ]
  },
  {
   "cell_type": "code",
   "execution_count": 8,
   "id": "af4d4c20",
   "metadata": {},
   "outputs": [],
   "source": [
    "# Case 1: Prediction in RGB Color Space"
   ]
  },
  {
   "cell_type": "code",
   "execution_count": 9,
   "id": "a536c37a",
   "metadata": {},
   "outputs": [
    {
     "name": "stdout",
     "output_type": "stream",
     "text": [
      "Calculate Time 28.78831\n"
     ]
    }
   ],
   "source": [
    "# Converting BGR Images to RGB Color Space\n",
    "start = time.time()\n",
    "image_data = []\n",
    "image_target = []\n",
    "\n",
    "for title in files:\n",
    "    os.chdir(address+title)\n",
    "    counter = 0\n",
    "    for i in data[title]:\n",
    "        img = cv2.imread(i)\n",
    "        img = cv2.cvtColor(img, cv2.COLOR_BGR2RGB)\n",
    "        image_data.append(cv2.resize(img,(width, height)))\n",
    "        image_target.append(title)\n",
    "        counter += 1\n",
    "        if counter == sample_size:\n",
    "            break\n",
    "    clear_output(wait=True)\n",
    "calculate_time = time.time() - start    \n",
    "print(\"Calculate Time\",round(calculate_time,5))"
   ]
  },
  {
   "cell_type": "code",
   "execution_count": 10,
   "id": "320e649e",
   "metadata": {},
   "outputs": [
    {
     "data": {
      "text/plain": [
       "(112, 100, 100, 3)"
      ]
     },
     "execution_count": 10,
     "metadata": {},
     "output_type": "execute_result"
    }
   ],
   "source": [
    "# Displaying the dimensionality of the array\n",
    "image_data = np.array(image_data)\n",
    "size = image_data.shape[0]\n",
    "image_data.shape"
   ]
  },
  {
   "cell_type": "code",
   "execution_count": 11,
   "id": "fb957c32",
   "metadata": {},
   "outputs": [
    {
     "data": {
      "text/plain": [
       "LabelEncoder()"
      ]
     },
     "execution_count": 11,
     "metadata": {},
     "output_type": "execute_result"
    }
   ],
   "source": [
    "# Making labels for the data\n",
    "labels = LabelEncoder()\n",
    "labels.fit(image_target)"
   ]
  },
  {
   "cell_type": "code",
   "execution_count": 12,
   "id": "3d8d0005",
   "metadata": {},
   "outputs": [
    {
     "data": {
      "text/plain": [
       "array(['Consumable', 'Not Consumable'], dtype='<U14')"
      ]
     },
     "execution_count": 12,
     "metadata": {},
     "output_type": "execute_result"
    }
   ],
   "source": [
    "# Types of classes we have\n",
    "labels.classes_\n",
    "# print(image_data)"
   ]
  },
  {
   "cell_type": "code",
   "execution_count": 13,
   "id": "5635a61a",
   "metadata": {},
   "outputs": [],
   "source": [
    "# Transforming image_data rgb values within 0 to 1\n",
    "X = image_data / 255.0\n",
    "# Transforming labels to distinct integer values\n",
    "y = labels.transform(image_target)\n",
    "train_images, test_images, train_labels, test_labels = train_test_split(X,y, test_size=0.3, random_state=123)"
   ]
  },
  {
   "cell_type": "code",
   "execution_count": 14,
   "id": "e55bf041",
   "metadata": {},
   "outputs": [
    {
     "data": {
      "text/plain": [
       "GaussianNB()"
      ]
     },
     "execution_count": 14,
     "metadata": {},
     "output_type": "execute_result"
    }
   ],
   "source": [
    "# Dimensionality Reduction of Train dataset\n",
    "reshape_train_images = train_images.reshape(len(train_images), -1)\n",
    "classifier.fit(reshape_train_images, train_labels)"
   ]
  },
  {
   "cell_type": "code",
   "execution_count": 15,
   "id": "0f984826",
   "metadata": {},
   "outputs": [],
   "source": [
    "# Dimensionality Reduction of Test dataset\n",
    "reshape_test_images = test_images.reshape(len(test_images), -1)\n",
    "test_labels_pred = classifier.predict(reshape_test_images)"
   ]
  },
  {
   "cell_type": "code",
   "execution_count": 16,
   "id": "561547b2",
   "metadata": {},
   "outputs": [
    {
     "name": "stdout",
     "output_type": "stream",
     "text": [
      "[[11  7]\n",
      " [ 6 10]]\n",
      "Accuracy in RGB Space: 61.76470588235294\n"
     ]
    }
   ],
   "source": [
    "# Calculating Accuracy\n",
    "cm = confusion_matrix(test_labels,test_labels_pred)\n",
    "print(cm)\n",
    "accuracy=(cm[0][0]+cm[1][1])/np.sum(cm)\n",
    "print(\"Accuracy in RGB Space:\",accuracy*100)"
   ]
  },
  {
   "cell_type": "code",
   "execution_count": null,
   "id": "62ee5fad",
   "metadata": {},
   "outputs": [],
   "source": []
  },
  {
   "cell_type": "code",
   "execution_count": 17,
   "id": "13eb3946",
   "metadata": {},
   "outputs": [],
   "source": [
    "# Case 2: Prediction in HSV Color Space"
   ]
  },
  {
   "cell_type": "code",
   "execution_count": 18,
   "id": "35219892",
   "metadata": {},
   "outputs": [
    {
     "name": "stdout",
     "output_type": "stream",
     "text": [
      "Time For Conversion 28.21097\n"
     ]
    }
   ],
   "source": [
    "# Converting BGR Images to HSV Color Space\n",
    "start = time.time()\n",
    "image_data = []\n",
    "image_target = []\n",
    "for title in files:\n",
    "    os.chdir(address+title)\n",
    "    counter = 0\n",
    "    for i in data[title]:\n",
    "        img = cv2.imread(i)\n",
    "        img = cv2.cvtColor(img, cv2.COLOR_BGR2HSV)\n",
    "        image_data.append(cv2.resize(img,(width, height)))\n",
    "        image_target.append(title)\n",
    "        counter += 1\n",
    "        if counter == sample_size:\n",
    "            break\n",
    "    clear_output(wait=True)\n",
    "calculate_time = time.time() - start    \n",
    "print(\"Time For Conversion\",round(calculate_time,5))"
   ]
  },
  {
   "cell_type": "code",
   "execution_count": 19,
   "id": "6208a511",
   "metadata": {},
   "outputs": [
    {
     "data": {
      "text/plain": [
       "(112, 100, 100, 3)"
      ]
     },
     "execution_count": 19,
     "metadata": {},
     "output_type": "execute_result"
    }
   ],
   "source": [
    "# Displaying the dimensionality of the array\n",
    "image_data = np.array(image_data)\n",
    "size = image_data.shape[0]\n",
    "image_data.shape"
   ]
  },
  {
   "cell_type": "code",
   "execution_count": 20,
   "id": "b8da4d10",
   "metadata": {},
   "outputs": [
    {
     "data": {
      "text/plain": [
       "LabelEncoder()"
      ]
     },
     "execution_count": 20,
     "metadata": {},
     "output_type": "execute_result"
    }
   ],
   "source": [
    "# Making labels for the data\n",
    "labels = LabelEncoder()\n",
    "labels.fit(image_target)"
   ]
  },
  {
   "cell_type": "code",
   "execution_count": 21,
   "id": "647b2073",
   "metadata": {},
   "outputs": [
    {
     "data": {
      "text/plain": [
       "array(['Consumable', 'Not Consumable'], dtype='<U14')"
      ]
     },
     "execution_count": 21,
     "metadata": {},
     "output_type": "execute_result"
    }
   ],
   "source": [
    "# Types of classes we have\n",
    "labels.classes_\n",
    "# print(image_data)"
   ]
  },
  {
   "cell_type": "code",
   "execution_count": 22,
   "id": "f1267d7b",
   "metadata": {},
   "outputs": [],
   "source": [
    "# Transforming image_data values within 0 to 1\n",
    "X = image_data / 360.0\n",
    "# Transforming labels to distinct integer values\n",
    "y = labels.transform(image_target)\n",
    "train_images, test_images, train_labels, test_labels = train_test_split(X,y, test_size=0.3, random_state=123)"
   ]
  },
  {
   "cell_type": "code",
   "execution_count": 23,
   "id": "65bb96ef",
   "metadata": {},
   "outputs": [
    {
     "data": {
      "text/plain": [
       "GaussianNB()"
      ]
     },
     "execution_count": 23,
     "metadata": {},
     "output_type": "execute_result"
    }
   ],
   "source": [
    "# Dimensionality Reduction of Train dataset\n",
    "reshape_train_images = train_images.reshape(len(train_images), -1)\n",
    "classifier.fit(reshape_train_images, train_labels)"
   ]
  },
  {
   "cell_type": "code",
   "execution_count": 24,
   "id": "6970d091",
   "metadata": {},
   "outputs": [],
   "source": [
    "# Dimensionality Reduction of Test dataset\n",
    "reshape_test_images = test_images.reshape(len(test_images), -1)\n",
    "test_labels_pred = classifier.predict(reshape_test_images)"
   ]
  },
  {
   "cell_type": "code",
   "execution_count": 25,
   "id": "103256cb",
   "metadata": {},
   "outputs": [
    {
     "name": "stdout",
     "output_type": "stream",
     "text": [
      "[[12  6]\n",
      " [ 4 12]]\n",
      "Accuracy in HSV Space: 70.58823529411765\n"
     ]
    }
   ],
   "source": [
    "# Calculating Accuracy\n",
    "cm = confusion_matrix(test_labels,test_labels_pred)\n",
    "print(cm)\n",
    "accuracy=(cm[0][0]+cm[1][1])/np.sum(cm)\n",
    "print(\"Accuracy in HSV Space:\",accuracy*100)"
   ]
  }
 ],
 "metadata": {
  "kernelspec": {
   "display_name": "Python 3 (ipykernel)",
   "language": "python",
   "name": "python3"
  },
  "language_info": {
   "codemirror_mode": {
    "name": "ipython",
    "version": 3
   },
   "file_extension": ".py",
   "mimetype": "text/x-python",
   "name": "python",
   "nbconvert_exporter": "python",
   "pygments_lexer": "ipython3",
   "version": "3.8.10"
  }
 },
 "nbformat": 4,
 "nbformat_minor": 5
}
